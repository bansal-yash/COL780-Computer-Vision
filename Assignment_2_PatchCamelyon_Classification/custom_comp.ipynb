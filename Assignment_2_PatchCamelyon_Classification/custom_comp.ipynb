{
 "cells": [
  {
   "cell_type": "code",
   "execution_count": 1,
   "id": "468b7de8",
   "metadata": {
    "_cell_guid": "b1076dfc-b9ad-4769-8c92-a6c4dae69d19",
    "_uuid": "8f2839f25d086af736a60e9eeb907d3b93b6e0e5",
    "execution": {
     "iopub.execute_input": "2025-03-30T04:20:36.141887Z",
     "iopub.status.busy": "2025-03-30T04:20:36.141638Z",
     "iopub.status.idle": "2025-03-30T04:20:44.891274Z",
     "shell.execute_reply": "2025-03-30T04:20:44.890411Z"
    },
    "papermill": {
     "duration": 8.755104,
     "end_time": "2025-03-30T04:20:44.892829",
     "exception": false,
     "start_time": "2025-03-30T04:20:36.137725",
     "status": "completed"
    },
    "tags": []
   },
   "outputs": [
    {
     "name": "stdout",
     "output_type": "stream",
     "text": [
      "cuda\n"
     ]
    }
   ],
   "source": [
    "import numpy as np\n",
    "import h5py\n",
    "import time\n",
    "import json\n",
    "import torch\n",
    "from tqdm import tqdm\n",
    "import torch.nn as nn\n",
    "import torch.optim as optim\n",
    "import torchvision.transforms.v2 as transforms\n",
    "import torchvision.models as models\n",
    "from torch.utils.data import Dataset, DataLoader\n",
    "import matplotlib.pyplot as plt\n",
    "from sklearn.metrics import (\n",
    "    accuracy_score,\n",
    "    precision_score,\n",
    "    recall_score,\n",
    "    f1_score,\n",
    "    roc_auc_score,\n",
    "    average_precision_score,\n",
    ")\n",
    "import torch.nn.functional as F\n",
    "\n",
    "torch.manual_seed(42)\n",
    "torch.cuda.manual_seed(42)\n",
    "np.random.seed(42)\n",
    "\n",
    "device = torch.device(\"cuda\" if torch.cuda.is_available() else \"cpu\")\n",
    "print(device)"
   ]
  },
  {
   "cell_type": "code",
   "execution_count": 2,
   "id": "0ed99956",
   "metadata": {
    "execution": {
     "iopub.execute_input": "2025-03-30T04:20:44.899385Z",
     "iopub.status.busy": "2025-03-30T04:20:44.899004Z",
     "iopub.status.idle": "2025-03-30T04:20:44.902651Z",
     "shell.execute_reply": "2025-03-30T04:20:44.901957Z"
    },
    "papermill": {
     "duration": 0.008084,
     "end_time": "2025-03-30T04:20:44.903911",
     "exception": false,
     "start_time": "2025-03-30T04:20:44.895827",
     "status": "completed"
    },
    "tags": []
   },
   "outputs": [],
   "source": [
    "x_train_path = \"/kaggle/input/pcam-dataset/camelyonpatch_level_2_split_train_x.h5\"\n",
    "y_train_path = \"/kaggle/input/pcam-dataset/camelyonpatch_level_2_split_train_y.h5\"\n",
    "\n",
    "x_valid_path = \"/kaggle/input/pcam-dataset/camelyonpatch_level_2_split_valid_x.h5\"\n",
    "y_valid_path = \"/kaggle/input/pcam-dataset/camelyonpatch_level_2_split_valid_y.h5\"\n",
    "\n",
    "x_test_path = \"/kaggle/input/pcam-dataset/camelyonpatch_level_2_split_test_x.h5\"\n",
    "y_test_path = \"/kaggle/input/pcam-dataset/camelyonpatch_level_2_split_test_y.h5\""
   ]
  },
  {
   "cell_type": "code",
   "execution_count": 3,
   "id": "cf521e58",
   "metadata": {
    "execution": {
     "iopub.execute_input": "2025-03-30T04:20:44.909729Z",
     "iopub.status.busy": "2025-03-30T04:20:44.909470Z",
     "iopub.status.idle": "2025-03-30T04:20:44.914308Z",
     "shell.execute_reply": "2025-03-30T04:20:44.913559Z"
    },
    "papermill": {
     "duration": 0.009069,
     "end_time": "2025-03-30T04:20:44.915541",
     "exception": false,
     "start_time": "2025-03-30T04:20:44.906472",
     "status": "completed"
    },
    "tags": []
   },
   "outputs": [],
   "source": [
    "class PCamDataset(Dataset):\n",
    "    def __init__(self, x_path, y_path, transform):\n",
    "        self.transform = transform\n",
    "\n",
    "        with h5py.File(x_path, \"r\") as file_x, h5py.File(y_path, \"r\") as file_y:\n",
    "            self.images = file_x[\"x\"][:]\n",
    "            self.labels = file_y[\"y\"][:]\n",
    "\n",
    "        self.length = len(self.images)\n",
    "\n",
    "    def __len__(self):\n",
    "        return self.length\n",
    "\n",
    "    def __getitem__(self, index):\n",
    "        img = self.images[index]\n",
    "        label = self.labels[index]\n",
    "\n",
    "        img = self.transform(img)\n",
    "        label = torch.tensor(label, dtype=torch.float32).squeeze()\n",
    "\n",
    "        return img, label"
   ]
  },
  {
   "cell_type": "code",
   "execution_count": 4,
   "id": "56b197df",
   "metadata": {
    "execution": {
     "iopub.execute_input": "2025-03-30T04:20:44.921315Z",
     "iopub.status.busy": "2025-03-30T04:20:44.921089Z",
     "iopub.status.idle": "2025-03-30T04:20:44.927966Z",
     "shell.execute_reply": "2025-03-30T04:20:44.927177Z"
    },
    "papermill": {
     "duration": 0.011098,
     "end_time": "2025-03-30T04:20:44.929194",
     "exception": false,
     "start_time": "2025-03-30T04:20:44.918096",
     "status": "completed"
    },
    "tags": []
   },
   "outputs": [],
   "source": [
    "def compute_metrics(labels, preds, probs):\n",
    "    labels = np.array(labels)\n",
    "    preds = np.array(preds)\n",
    "    probs = np.array(probs)\n",
    "\n",
    "    accuracy = 100 * accuracy_score(labels, preds)\n",
    "\n",
    "    if np.sum(preds) == 0:\n",
    "        precision = 0.0\n",
    "        recall = 0.0\n",
    "        f1 = 0.0\n",
    "    else:\n",
    "        precision = precision_score(labels, preds, average=\"binary\")\n",
    "        recall = recall_score(labels, preds, average=\"binary\")\n",
    "        f1 = f1_score(labels, preds, average=\"binary\")\n",
    "\n",
    "    if np.sum(labels) == 0 or np.sum(preds) == 0:\n",
    "        roc_auc = 0.0\n",
    "        pr_auc = 0.0\n",
    "    else:\n",
    "        roc_auc = roc_auc_score(labels, probs)\n",
    "        pr_auc = average_precision_score(labels, probs)\n",
    "\n",
    "    return {\n",
    "        \"accuracies\": accuracy,\n",
    "        \"precisions\": precision,\n",
    "        \"recalls\": recall,\n",
    "        \"f1s\": f1,\n",
    "        \"rocs\": roc_auc,\n",
    "        \"prs\": pr_auc,\n",
    "    }\n",
    "\n",
    "\n",
    "def round_metrics(metrics, decimals=4):\n",
    "    def round_value(value):\n",
    "        if isinstance(value, float):\n",
    "            return round(value, decimals)\n",
    "        elif isinstance(value, list):\n",
    "            return [round_value(v) for v in value]\n",
    "        elif isinstance(value, tuple):\n",
    "            return tuple(round_value(v) for v in value)\n",
    "        elif isinstance(value, dict):\n",
    "            return {k: round_value(v) for k, v in value.items()}\n",
    "        return value\n",
    "\n",
    "    return {key: round_value(values) for key, values in metrics.items()}"
   ]
  },
  {
   "cell_type": "code",
   "execution_count": 5,
   "id": "dffd20e6",
   "metadata": {
    "execution": {
     "iopub.execute_input": "2025-03-30T04:20:44.934861Z",
     "iopub.status.busy": "2025-03-30T04:20:44.934661Z",
     "iopub.status.idle": "2025-03-30T04:20:44.938050Z",
     "shell.execute_reply": "2025-03-30T04:20:44.937419Z"
    },
    "papermill": {
     "duration": 0.00738,
     "end_time": "2025-03-30T04:20:44.939082",
     "exception": false,
     "start_time": "2025-03-30T04:20:44.931702",
     "status": "completed"
    },
    "tags": []
   },
   "outputs": [],
   "source": [
    "def plot_metrics(epochs_range, train_vals, val_vals, ylabel, title):\n",
    "    plt.plot(epochs_range, train_vals, label=\"Train\")\n",
    "    plt.plot(epochs_range, val_vals, label=\"Validation\")\n",
    "    plt.xlabel(\"Epochs\")\n",
    "    plt.ylabel(ylabel)\n",
    "    plt.title(title)\n",
    "    plt.legend()\n",
    "    plt.grid()"
   ]
  },
  {
   "cell_type": "code",
   "execution_count": 6,
   "id": "e4e39cb4",
   "metadata": {
    "execution": {
     "iopub.execute_input": "2025-03-30T04:20:44.944893Z",
     "iopub.status.busy": "2025-03-30T04:20:44.944674Z",
     "iopub.status.idle": "2025-03-30T04:20:44.949822Z",
     "shell.execute_reply": "2025-03-30T04:20:44.949044Z"
    },
    "papermill": {
     "duration": 0.009448,
     "end_time": "2025-03-30T04:20:44.951096",
     "exception": false,
     "start_time": "2025-03-30T04:20:44.941648",
     "status": "completed"
    },
    "tags": []
   },
   "outputs": [],
   "source": [
    "def test_model(model, test_loader):\n",
    "    running_test_loss = 0.0\n",
    "    test_preds, test_labels, test_probs = [], [], []\n",
    "\n",
    "    model.eval()\n",
    "    with torch.no_grad():\n",
    "        for images, labels in tqdm(test_loader, desc=f\"Testing\", leave=False):\n",
    "            images, labels = images.to(device), labels.to(device)\n",
    "            outputs = model(images).squeeze(dim=1)\n",
    "            loss = criterion(outputs, labels)\n",
    "\n",
    "            running_test_loss += loss.item()\n",
    "            probs = torch.sigmoid(outputs)\n",
    "            predicted = (probs > 0.5).long()\n",
    "\n",
    "            test_preds.extend(predicted.cpu().numpy())\n",
    "            test_labels.extend(labels.cpu().numpy())\n",
    "            test_probs.extend(probs.detach().cpu().numpy())\n",
    "\n",
    "    running_test_loss /= len(test_loader)\n",
    "    test_metrics = compute_metrics(test_labels, test_preds, test_probs)\n",
    "\n",
    "    print(\n",
    "        f\"Test Loss: {running_test_loss:.4f}, \"\n",
    "        f\"Acc: {test_metrics['accuracies']:.4f}%, \"\n",
    "        f\"F1: {test_metrics['f1s']:.4f}\\n\"\n",
    "    )\n",
    "\n",
    "    return test_metrics"
   ]
  },
  {
   "cell_type": "code",
   "execution_count": 7,
   "id": "54e25925",
   "metadata": {
    "execution": {
     "iopub.execute_input": "2025-03-30T04:20:44.957101Z",
     "iopub.status.busy": "2025-03-30T04:20:44.956884Z",
     "iopub.status.idle": "2025-03-30T04:20:44.970719Z",
     "shell.execute_reply": "2025-03-30T04:20:44.969929Z"
    },
    "papermill": {
     "duration": 0.018146,
     "end_time": "2025-03-30T04:20:44.971908",
     "exception": false,
     "start_time": "2025-03-30T04:20:44.953762",
     "status": "completed"
    },
    "tags": []
   },
   "outputs": [],
   "source": [
    "def train_model(\n",
    "    model, train_loader, val_loader, criterion, optimizer, scheduler, epochs\n",
    "):\n",
    "    metrics = {\n",
    "        \"losses\": ([], []),\n",
    "        \"accuracies\": ([], []),\n",
    "        \"precisions\": ([], []),\n",
    "        \"recalls\": ([], []),\n",
    "        \"f1s\": ([], []),\n",
    "        \"rocs\": ([], []),\n",
    "        \"prs\": ([], []),\n",
    "    }\n",
    "\n",
    "    test_metrics = {}\n",
    "    best_test_accuracy = 0.0\n",
    "\n",
    "    total_train_time, total_val_time = 0, 0\n",
    "\n",
    "    for epoch in range(1, epochs + 1):\n",
    "        model.train()\n",
    "        start_time = time.time()\n",
    "        running_train_loss = 0.0\n",
    "        train_preds, train_labels, train_probs = [], [], []\n",
    "\n",
    "        for images, labels in tqdm(\n",
    "            train_loader, desc=f\"Epoch {epoch}/{epochs} - Training\", leave=False\n",
    "        ):\n",
    "            images, labels = images.to(device), labels.to(device)\n",
    "            optimizer.zero_grad()\n",
    "            outputs = model(images).squeeze(dim=1)\n",
    "            loss = criterion(outputs, labels)\n",
    "            loss.backward()\n",
    "            optimizer.step()\n",
    "\n",
    "            running_train_loss += loss.item()\n",
    "            probs = torch.sigmoid(outputs)\n",
    "            predicted = (probs > 0.5).long()\n",
    "\n",
    "            train_preds.extend(predicted.cpu().numpy())\n",
    "            train_labels.extend(labels.cpu().numpy())\n",
    "            train_probs.extend(probs.detach().cpu().numpy())\n",
    "\n",
    "        total_train_time += time.time() - start_time\n",
    "        train_metrics = compute_metrics(train_labels, train_preds, train_probs)\n",
    "\n",
    "        if scheduler is not None:\n",
    "            scheduler.step()\n",
    "\n",
    "        model.eval()\n",
    "        with torch.no_grad():\n",
    "            start_time = time.time()\n",
    "            running_val_loss = 0.0\n",
    "            val_preds, val_labels, val_probs = [], [], []\n",
    "\n",
    "            for images, labels in tqdm(\n",
    "                val_loader, desc=f\"Epoch {epoch}/{epochs} - Validation\", leave=False\n",
    "            ):\n",
    "                images, labels = images.to(device), labels.to(device)\n",
    "                outputs = model(images).squeeze(dim=1)\n",
    "                loss = criterion(outputs, labels)\n",
    "\n",
    "                running_val_loss += loss.item()\n",
    "                probs = torch.sigmoid(outputs)\n",
    "                predicted = (probs > 0.5).long()\n",
    "\n",
    "                val_preds.extend(predicted.cpu().numpy())\n",
    "                val_labels.extend(labels.cpu().numpy())\n",
    "                val_probs.extend(probs.detach().cpu().numpy())\n",
    "\n",
    "            total_val_time += time.time() - start_time\n",
    "            val_metrics = compute_metrics(val_labels, val_preds, val_probs)\n",
    "\n",
    "        running_train_loss /= len(train_loader)\n",
    "        running_val_loss /= len(val_loader)\n",
    "\n",
    "        metrics[\"losses\"][0].append(running_train_loss)\n",
    "        metrics[\"losses\"][1].append(running_val_loss)\n",
    "\n",
    "        for key in metrics.keys():\n",
    "            if key != \"losses\":\n",
    "                metrics[key][0].append(train_metrics[key])\n",
    "                metrics[key][1].append(val_metrics[key])\n",
    "\n",
    "        print(\n",
    "            f\"Epoch [{epoch}/{epochs}]:\\n\"\n",
    "            f\"Train Loss: {metrics['losses'][0][-1]:.4f}, \"\n",
    "            f\"Acc: {metrics['accuracies'][0][-1]:.4f}%, \"\n",
    "            f\"F1: {metrics['f1s'][0][-1]:.4f}\\n\"\n",
    "            f\"Val Loss: {metrics['losses'][1][-1]:.4f}, \"\n",
    "            f\"Acc: {metrics['accuracies'][1][-1]:.4f}%, \"\n",
    "            f\"F1: {metrics['f1s'][1][-1]:.4f}\\n\"\n",
    "        )\n",
    "\n",
    "        if epoch == 10 or epoch == 15 or epoch == 25:\n",
    "            checkpoint = {\n",
    "                \"epoch\": epoch,\n",
    "                \"model_state_dict\": model.state_dict(),\n",
    "                \"optimizer_state_dict\": optimizer.state_dict(),\n",
    "                \"scheduler_state_dict\": (\n",
    "                    scheduler.state_dict() if scheduler is not None else None\n",
    "                ),\n",
    "            }\n",
    "            torch.save(checkpoint, f\"model_{epoch}.pth\")\n",
    "\n",
    "        test_met = test_model(model, test_loader)\n",
    "        test_metrics[f\"Testing_{epoch}\"] = test_met\n",
    "\n",
    "        test_accuracy = test_met[\"accuracies\"]\n",
    "\n",
    "        if epoch == 10 or epoch == 15 or epoch == 25:\n",
    "            print(f\"Test Accuracy at epoch: {epoch} is {test_accuracy} %\\n\")\n",
    "            \n",
    "        if test_accuracy >= best_test_accuracy:\n",
    "            best_test_accuracy = test_accuracy\n",
    "            print(f\"Best Model saving at epoch: {epoch} with accuracy: {test_accuracy} %\\n\")\n",
    "            checkpoint = {\n",
    "                \"epoch\": epoch,\n",
    "                \"model_state_dict\": model.state_dict(),\n",
    "                \"optimizer_state_dict\": optimizer.state_dict(),\n",
    "                \"scheduler_state_dict\": (\n",
    "                    scheduler.state_dict() if scheduler is not None else None\n",
    "                ),\n",
    "            }\n",
    "            torch.save(checkpoint, f\"model_best.pth\")\n",
    "\n",
    "    total_train_time /= 60\n",
    "    total_val_time /= 60\n",
    "\n",
    "    print(f\"Best test accuracy: {best_test_accuracy} %\\n\")\n",
    "    print(\n",
    "        f\"Total Training Time: {(total_train_time):.2f} min, Validation Time: {(total_val_time):.2f} min\"\n",
    "    )\n",
    "\n",
    "    metrics[\"total_times\"] = {\n",
    "        \"training_time (mins)\": total_train_time,\n",
    "        \"validation_time (mins)\": total_val_time,\n",
    "    }\n",
    "    metrics[\"Testing\"] = test_metrics\n",
    "\n",
    "    return metrics"
   ]
  },
  {
   "cell_type": "code",
   "execution_count": 8,
   "id": "e47d871e",
   "metadata": {
    "execution": {
     "iopub.execute_input": "2025-03-30T04:20:44.977748Z",
     "iopub.status.busy": "2025-03-30T04:20:44.977526Z",
     "iopub.status.idle": "2025-03-30T04:22:17.049051Z",
     "shell.execute_reply": "2025-03-30T04:22:17.048318Z"
    },
    "papermill": {
     "duration": 92.07626,
     "end_time": "2025-03-30T04:22:17.050758",
     "exception": false,
     "start_time": "2025-03-30T04:20:44.974498",
     "status": "completed"
    },
    "tags": []
   },
   "outputs": [],
   "source": [
    "train_transform = transforms.Compose(\n",
    "    [\n",
    "        transforms.ToImage(),\n",
    "        transforms.RandomResizedCrop(size=(96, 96), scale=(0.8, 1.0)),\n",
    "        transforms.RandomHorizontalFlip(),\n",
    "        transforms.RandomVerticalFlip(),\n",
    "        transforms.RandomRotation(degrees=15),\n",
    "        transforms.ColorJitter(brightness=0.2, contrast=0.2, saturation=0.2, hue=0.1),\n",
    "        transforms.ToDtype(torch.float32, scale=True),\n",
    "        transforms.Normalize(mean=[0.485, 0.456, 0.406], std=[0.229, 0.224, 0.225]),\n",
    "    ]\n",
    ")\n",
    "\n",
    "test_transform = transforms.Compose(\n",
    "    [\n",
    "        transforms.ToImage(),\n",
    "        transforms.Resize((96, 96)),\n",
    "        transforms.ToDtype(torch.float32, scale=True),\n",
    "        transforms.Normalize(mean=[0.485, 0.456, 0.406], std=[0.229, 0.224, 0.225]),\n",
    "    ]\n",
    ")\n",
    "\n",
    "\n",
    "train_dataset = PCamDataset(x_train_path, y_train_path, transform=train_transform)\n",
    "val_dataset = PCamDataset(x_valid_path, y_valid_path, transform=test_transform)\n",
    "test_dataset = PCamDataset(x_test_path, y_test_path, transform=test_transform)\n",
    "\n",
    "train_loader = DataLoader(train_dataset, batch_size=32, shuffle=True, num_workers=4, pin_memory=True, persistent_workers=True)\n",
    "val_loader = DataLoader(val_dataset, batch_size=32, shuffle=False, num_workers=4, pin_memory=True, persistent_workers=True)\n",
    "test_loader = DataLoader(test_dataset, batch_size=32, shuffle=False, num_workers=4, pin_memory=True, persistent_workers=True)"
   ]
  },
  {
   "cell_type": "code",
   "execution_count": 9,
   "id": "25f4804e",
   "metadata": {
    "execution": {
     "iopub.execute_input": "2025-03-30T04:22:17.057704Z",
     "iopub.status.busy": "2025-03-30T04:22:17.057460Z",
     "iopub.status.idle": "2025-03-30T04:22:17.068514Z",
     "shell.execute_reply": "2025-03-30T04:22:17.067917Z"
    },
    "papermill": {
     "duration": 0.015627,
     "end_time": "2025-03-30T04:22:17.069653",
     "exception": false,
     "start_time": "2025-03-30T04:22:17.054026",
     "status": "completed"
    },
    "tags": []
   },
   "outputs": [],
   "source": [
    "class DepthwiseSeparableConv(nn.Module):\n",
    "    def __init__(self, in_channels, out_channels, kernel_size, stride=1, padding=1):\n",
    "        super(DepthwiseSeparableConv, self).__init__()\n",
    "        self.depthwise = nn.Conv2d(in_channels, in_channels, kernel_size, stride, padding, groups=in_channels, bias=False)\n",
    "        self.pointwise = nn.Conv2d(in_channels, out_channels, 1, bias=False)\n",
    "        self.bn = nn.BatchNorm2d(out_channels)\n",
    "        self.relu = nn.ReLU()\n",
    "    \n",
    "    def forward(self, x):\n",
    "        x = self.depthwise(x)\n",
    "        x = self.pointwise(x)\n",
    "        x = self.bn(x)\n",
    "        return self.relu(x)\n",
    "\n",
    "class ResidualBlock(nn.Module):\n",
    "    def __init__(self, in_channels, out_channels, downsample=False):\n",
    "        super(ResidualBlock, self).__init__()\n",
    "        stride = 2 if downsample else 1\n",
    "        self.conv = DepthwiseSeparableConv(in_channels, out_channels, kernel_size=3, stride=stride)\n",
    "        self.shortcut = (\n",
    "            nn.Conv2d(in_channels, out_channels, kernel_size=1, stride=stride, bias=False) \n",
    "            if in_channels != out_channels or downsample else nn.Identity()\n",
    "        )\n",
    "        self.dropout = nn.Dropout2d(0.2)\n",
    "    \n",
    "    def forward(self, x):\n",
    "        out = self.conv(x) + self.shortcut(x)\n",
    "        return self.dropout(out)\n",
    "\n",
    "class InceptionModule(nn.Module):\n",
    "    def __init__(self, in_channels, out_channels):\n",
    "        super(InceptionModule, self).__init__()\n",
    "        self.conv1x1 = nn.Conv2d(in_channels, out_channels, kernel_size=1, padding=0, bias=False)\n",
    "        self.conv3x3 = nn.Conv2d(in_channels, out_channels, kernel_size=3, padding=1, bias=False)\n",
    "        self.conv5x5 = nn.Conv2d(in_channels, out_channels, kernel_size=5, padding=2, bias=False)\n",
    "        self.bn = nn.BatchNorm2d(out_channels * 3)\n",
    "        self.relu = nn.ReLU()\n",
    "        self.dropout = nn.Dropout2d(0.2)\n",
    "    \n",
    "    def forward(self, x):\n",
    "        x1 = self.conv1x1(x)\n",
    "        x2 = self.conv3x3(x)\n",
    "        x3 = self.conv5x5(x)\n",
    "        x = torch.cat([x1, x2, x3], dim=1)  \n",
    "        x = self.bn(x)\n",
    "        x = self.relu(x)\n",
    "        return self.dropout(x)\n",
    "\n",
    "class CustomCNN(nn.Module):\n",
    "    def __init__(self):\n",
    "        super(CustomCNN, self).__init__()\n",
    "        self.init_conv = nn.Sequential(\n",
    "            nn.Conv2d(3, 64, kernel_size=3, padding=1, bias=False),\n",
    "            nn.BatchNorm2d(64),\n",
    "            nn.ReLU(),\n",
    "        )\n",
    "        self.res_block1 = ResidualBlock(64, 64)\n",
    "        self.res_block2 = ResidualBlock(64, 128, downsample=True) \n",
    "        self.res_block3 = ResidualBlock(128, 256, downsample=True) \n",
    "        self.inception = InceptionModule(256, 256)\n",
    "        self.global_avg_pool = nn.AdaptiveAvgPool2d((6,6))\n",
    "        self.fc = nn.Sequential(\n",
    "            nn.Linear(256 * 3 * 6 * 6, 128),\n",
    "            nn.ReLU(),\n",
    "            nn.Dropout(0.3),\n",
    "            nn.Linear(128, 1),\n",
    "        )\n",
    "    \n",
    "    def forward(self, x):\n",
    "        x = self.init_conv(x)        \n",
    "        x = self.res_block1(x)        \n",
    "        x = self.res_block2(x)        \n",
    "        x = self.res_block3(x)        \n",
    "        x = self.inception(x)        \n",
    "        x = self.global_avg_pool(x)        \n",
    "        x = torch.flatten(x, 1)        \n",
    "        x = self.fc(x)\n",
    "        \n",
    "        return x"
   ]
  },
  {
   "cell_type": "code",
   "execution_count": 10,
   "id": "599153d3",
   "metadata": {
    "execution": {
     "iopub.execute_input": "2025-03-30T04:22:17.075549Z",
     "iopub.status.busy": "2025-03-30T04:22:17.075289Z",
     "iopub.status.idle": "2025-03-30T04:22:17.319132Z",
     "shell.execute_reply": "2025-03-30T04:22:17.318206Z"
    },
    "papermill": {
     "duration": 0.248377,
     "end_time": "2025-03-30T04:22:17.320640",
     "exception": false,
     "start_time": "2025-03-30T04:22:17.072263",
     "status": "completed"
    },
    "tags": []
   },
   "outputs": [
    {
     "name": "stdout",
     "output_type": "stream",
     "text": [
      "CustomCNN(\n",
      "  (init_conv): Sequential(\n",
      "    (0): Conv2d(3, 64, kernel_size=(3, 3), stride=(1, 1), padding=(1, 1), bias=False)\n",
      "    (1): BatchNorm2d(64, eps=1e-05, momentum=0.1, affine=True, track_running_stats=True)\n",
      "    (2): ReLU()\n",
      "  )\n",
      "  (res_block1): ResidualBlock(\n",
      "    (conv): DepthwiseSeparableConv(\n",
      "      (depthwise): Conv2d(64, 64, kernel_size=(3, 3), stride=(1, 1), padding=(1, 1), groups=64, bias=False)\n",
      "      (pointwise): Conv2d(64, 64, kernel_size=(1, 1), stride=(1, 1), bias=False)\n",
      "      (bn): BatchNorm2d(64, eps=1e-05, momentum=0.1, affine=True, track_running_stats=True)\n",
      "      (relu): ReLU()\n",
      "    )\n",
      "    (shortcut): Identity()\n",
      "    (dropout): Dropout2d(p=0.2, inplace=False)\n",
      "  )\n",
      "  (res_block2): ResidualBlock(\n",
      "    (conv): DepthwiseSeparableConv(\n",
      "      (depthwise): Conv2d(64, 64, kernel_size=(3, 3), stride=(2, 2), padding=(1, 1), groups=64, bias=False)\n",
      "      (pointwise): Conv2d(64, 128, kernel_size=(1, 1), stride=(1, 1), bias=False)\n",
      "      (bn): BatchNorm2d(128, eps=1e-05, momentum=0.1, affine=True, track_running_stats=True)\n",
      "      (relu): ReLU()\n",
      "    )\n",
      "    (shortcut): Conv2d(64, 128, kernel_size=(1, 1), stride=(2, 2), bias=False)\n",
      "    (dropout): Dropout2d(p=0.2, inplace=False)\n",
      "  )\n",
      "  (res_block3): ResidualBlock(\n",
      "    (conv): DepthwiseSeparableConv(\n",
      "      (depthwise): Conv2d(128, 128, kernel_size=(3, 3), stride=(2, 2), padding=(1, 1), groups=128, bias=False)\n",
      "      (pointwise): Conv2d(128, 256, kernel_size=(1, 1), stride=(1, 1), bias=False)\n",
      "      (bn): BatchNorm2d(256, eps=1e-05, momentum=0.1, affine=True, track_running_stats=True)\n",
      "      (relu): ReLU()\n",
      "    )\n",
      "    (shortcut): Conv2d(128, 256, kernel_size=(1, 1), stride=(2, 2), bias=False)\n",
      "    (dropout): Dropout2d(p=0.2, inplace=False)\n",
      "  )\n",
      "  (inception): InceptionModule(\n",
      "    (conv1x1): Conv2d(256, 256, kernel_size=(1, 1), stride=(1, 1), bias=False)\n",
      "    (conv3x3): Conv2d(256, 256, kernel_size=(3, 3), stride=(1, 1), padding=(1, 1), bias=False)\n",
      "    (conv5x5): Conv2d(256, 256, kernel_size=(5, 5), stride=(1, 1), padding=(2, 2), bias=False)\n",
      "    (bn): BatchNorm2d(768, eps=1e-05, momentum=0.1, affine=True, track_running_stats=True)\n",
      "    (relu): ReLU()\n",
      "    (dropout): Dropout2d(p=0.2, inplace=False)\n",
      "  )\n",
      "  (global_avg_pool): AdaptiveAvgPool2d(output_size=(6, 6))\n",
      "  (fc): Sequential(\n",
      "    (0): Linear(in_features=27648, out_features=128, bias=True)\n",
      "    (1): ReLU()\n",
      "    (2): Dropout(p=0.3, inplace=False)\n",
      "    (3): Linear(in_features=128, out_features=1, bias=True)\n",
      "  )\n",
      ")\n"
     ]
    }
   ],
   "source": [
    "model = CustomCNN()\n",
    "model = model.to(device)\n",
    "\n",
    "criterion = nn.BCEWithLogitsLoss()\n",
    "optimizer = optim.SGD(model.parameters(), lr=0.001, momentum=0.9)\n",
    "scheduler = None\n",
    "\n",
    "epochs = 70\n",
    "\n",
    "print(model)"
   ]
  },
  {
   "cell_type": "code",
   "execution_count": 11,
   "id": "d05c6e8a",
   "metadata": {
    "execution": {
     "iopub.execute_input": "2025-03-30T04:22:17.327623Z",
     "iopub.status.busy": "2025-03-30T04:22:17.327347Z",
     "iopub.status.idle": "2025-03-30T13:11:33.837766Z",
     "shell.execute_reply": "2025-03-30T13:11:33.836656Z"
    },
    "papermill": {
     "duration": 31756.515457,
     "end_time": "2025-03-30T13:11:33.839276",
     "exception": false,
     "start_time": "2025-03-30T04:22:17.323819",
     "status": "completed"
    },
    "tags": []
   },
   "outputs": [
    {
     "name": "stderr",
     "output_type": "stream",
     "text": [
      "                                                                            \r"
     ]
    },
    {
     "name": "stdout",
     "output_type": "stream",
     "text": [
      "Epoch [1/70]:\n",
      "Train Loss: 0.5237, Acc: 74.6895%, F1: 0.7488\n",
      "Val Loss: 0.4727, Acc: 77.1240%, F1: 0.7645\n",
      "\n"
     ]
    },
    {
     "name": "stderr",
     "output_type": "stream",
     "text": [
      "                                                            \r"
     ]
    },
    {
     "name": "stdout",
     "output_type": "stream",
     "text": [
      "Test Loss: 0.4993, Acc: 76.2909%, F1: 0.7567\n",
      "\n",
      "Best Model saving at epoch: 1 with accuracy: 76.2908935546875 %\n",
      "\n"
     ]
    },
    {
     "name": "stderr",
     "output_type": "stream",
     "text": [
      "                                                                            \r"
     ]
    },
    {
     "name": "stdout",
     "output_type": "stream",
     "text": [
      "Epoch [2/70]:\n",
      "Train Loss: 0.4905, Acc: 77.0752%, F1: 0.7752\n",
      "Val Loss: 0.4567, Acc: 78.5004%, F1: 0.7968\n",
      "\n"
     ]
    },
    {
     "name": "stderr",
     "output_type": "stream",
     "text": [
      "                                                            \r"
     ]
    },
    {
     "name": "stdout",
     "output_type": "stream",
     "text": [
      "Test Loss: 0.4741, Acc: 78.7384%, F1: 0.8009\n",
      "\n",
      "Best Model saving at epoch: 2 with accuracy: 78.7384033203125 %\n",
      "\n"
     ]
    },
    {
     "name": "stderr",
     "output_type": "stream",
     "text": [
      "                                                                            \r"
     ]
    },
    {
     "name": "stdout",
     "output_type": "stream",
     "text": [
      "Epoch [3/70]:\n",
      "Train Loss: 0.4757, Acc: 77.8885%, F1: 0.7836\n",
      "Val Loss: 0.4478, Acc: 79.7699%, F1: 0.8099\n",
      "\n"
     ]
    },
    {
     "name": "stderr",
     "output_type": "stream",
     "text": [
      "                                                            \r"
     ]
    },
    {
     "name": "stdout",
     "output_type": "stream",
     "text": [
      "Test Loss: 0.4755, Acc: 78.3264%, F1: 0.7949\n",
      "\n"
     ]
    },
    {
     "name": "stderr",
     "output_type": "stream",
     "text": [
      "                                                                            \r"
     ]
    },
    {
     "name": "stdout",
     "output_type": "stream",
     "text": [
      "Epoch [4/70]:\n",
      "Train Loss: 0.4656, Acc: 78.4569%, F1: 0.7888\n",
      "Val Loss: 0.4331, Acc: 78.8483%, F1: 0.7942\n",
      "\n"
     ]
    },
    {
     "name": "stderr",
     "output_type": "stream",
     "text": [
      "                                                            \r"
     ]
    },
    {
     "name": "stdout",
     "output_type": "stream",
     "text": [
      "Test Loss: 0.4570, Acc: 79.0771%, F1: 0.7979\n",
      "\n",
      "Best Model saving at epoch: 4 with accuracy: 79.0771484375 %\n",
      "\n"
     ]
    },
    {
     "name": "stderr",
     "output_type": "stream",
     "text": [
      "                                                                            \r"
     ]
    },
    {
     "name": "stdout",
     "output_type": "stream",
     "text": [
      "Epoch [5/70]:\n",
      "Train Loss: 0.4563, Acc: 79.0688%, F1: 0.7947\n",
      "Val Loss: 0.4318, Acc: 80.1422%, F1: 0.8134\n",
      "\n"
     ]
    },
    {
     "name": "stderr",
     "output_type": "stream",
     "text": [
      "                                                            \r"
     ]
    },
    {
     "name": "stdout",
     "output_type": "stream",
     "text": [
      "Test Loss: 0.4405, Acc: 80.4810%, F1: 0.8186\n",
      "\n",
      "Best Model saving at epoch: 5 with accuracy: 80.48095703125 %\n",
      "\n"
     ]
    },
    {
     "name": "stderr",
     "output_type": "stream",
     "text": [
      "                                                                            \r"
     ]
    },
    {
     "name": "stdout",
     "output_type": "stream",
     "text": [
      "Epoch [6/70]:\n",
      "Train Loss: 0.4473, Acc: 79.6143%, F1: 0.7997\n",
      "Val Loss: 0.4179, Acc: 79.5837%, F1: 0.7949\n",
      "\n"
     ]
    },
    {
     "name": "stderr",
     "output_type": "stream",
     "text": [
      "                                                            \r"
     ]
    },
    {
     "name": "stdout",
     "output_type": "stream",
     "text": [
      "Test Loss: 0.4311, Acc: 79.7241%, F1: 0.7971\n",
      "\n"
     ]
    },
    {
     "name": "stderr",
     "output_type": "stream",
     "text": [
      "                                                                            \r"
     ]
    },
    {
     "name": "stdout",
     "output_type": "stream",
     "text": [
      "Epoch [7/70]:\n",
      "Train Loss: 0.4389, Acc: 80.0629%, F1: 0.8036\n",
      "Val Loss: 0.4163, Acc: 79.4891%, F1: 0.7981\n",
      "\n"
     ]
    },
    {
     "name": "stderr",
     "output_type": "stream",
     "text": [
      "                                                            \r"
     ]
    },
    {
     "name": "stdout",
     "output_type": "stream",
     "text": [
      "Test Loss: 0.4419, Acc: 79.2694%, F1: 0.7948\n",
      "\n"
     ]
    },
    {
     "name": "stderr",
     "output_type": "stream",
     "text": [
      "                                                                            \r"
     ]
    },
    {
     "name": "stdout",
     "output_type": "stream",
     "text": [
      "Epoch [8/70]:\n",
      "Train Loss: 0.4318, Acc: 80.4497%, F1: 0.8074\n",
      "Val Loss: 0.4060, Acc: 81.0669%, F1: 0.8149\n",
      "\n"
     ]
    },
    {
     "name": "stderr",
     "output_type": "stream",
     "text": [
      "                                                            \r"
     ]
    },
    {
     "name": "stdout",
     "output_type": "stream",
     "text": [
      "Test Loss: 0.4236, Acc: 80.3558%, F1: 0.8057\n",
      "\n"
     ]
    },
    {
     "name": "stderr",
     "output_type": "stream",
     "text": [
      "                                                                            \r"
     ]
    },
    {
     "name": "stdout",
     "output_type": "stream",
     "text": [
      "Epoch [9/70]:\n",
      "Train Loss: 0.4255, Acc: 80.7621%, F1: 0.8096\n",
      "Val Loss: 0.3966, Acc: 81.0760%, F1: 0.8181\n",
      "\n"
     ]
    },
    {
     "name": "stderr",
     "output_type": "stream",
     "text": [
      "                                                            \r"
     ]
    },
    {
     "name": "stdout",
     "output_type": "stream",
     "text": [
      "Test Loss: 0.4308, Acc: 79.8492%, F1: 0.8018\n",
      "\n"
     ]
    },
    {
     "name": "stderr",
     "output_type": "stream",
     "text": [
      "                                                                             \r"
     ]
    },
    {
     "name": "stdout",
     "output_type": "stream",
     "text": [
      "Epoch [10/70]:\n",
      "Train Loss: 0.4204, Acc: 81.0337%, F1: 0.8124\n",
      "Val Loss: 0.4028, Acc: 81.0516%, F1: 0.8147\n",
      "\n"
     ]
    },
    {
     "name": "stderr",
     "output_type": "stream",
     "text": [
      "                                                            \r"
     ]
    },
    {
     "name": "stdout",
     "output_type": "stream",
     "text": [
      "Test Loss: 0.4305, Acc: 79.6234%, F1: 0.7945\n",
      "\n",
      "Test Accuracy at epoch: 10 is 79.6234130859375 %\n",
      "\n"
     ]
    },
    {
     "name": "stderr",
     "output_type": "stream",
     "text": [
      "                                                                             \r"
     ]
    },
    {
     "name": "stdout",
     "output_type": "stream",
     "text": [
      "Epoch [11/70]:\n",
      "Train Loss: 0.4152, Acc: 81.3286%, F1: 0.8155\n",
      "Val Loss: 0.4019, Acc: 81.1859%, F1: 0.8178\n",
      "\n"
     ]
    },
    {
     "name": "stderr",
     "output_type": "stream",
     "text": [
      "                                                            \r"
     ]
    },
    {
     "name": "stdout",
     "output_type": "stream",
     "text": [
      "Test Loss: 0.4329, Acc: 79.5288%, F1: 0.7963\n",
      "\n"
     ]
    },
    {
     "name": "stderr",
     "output_type": "stream",
     "text": [
      "                                                                             \r"
     ]
    },
    {
     "name": "stdout",
     "output_type": "stream",
     "text": [
      "Epoch [12/70]:\n",
      "Train Loss: 0.4092, Acc: 81.6769%, F1: 0.8184\n",
      "Val Loss: 0.3947, Acc: 81.6498%, F1: 0.8116\n",
      "\n"
     ]
    },
    {
     "name": "stderr",
     "output_type": "stream",
     "text": [
      "                                                            \r"
     ]
    },
    {
     "name": "stdout",
     "output_type": "stream",
     "text": [
      "Test Loss: 0.4499, Acc: 78.1342%, F1: 0.7623\n",
      "\n"
     ]
    },
    {
     "name": "stderr",
     "output_type": "stream",
     "text": [
      "                                                                             \r"
     ]
    },
    {
     "name": "stdout",
     "output_type": "stream",
     "text": [
      "Epoch [13/70]:\n",
      "Train Loss: 0.4043, Acc: 81.9290%, F1: 0.8209\n",
      "Val Loss: 0.3932, Acc: 82.3090%, F1: 0.8244\n",
      "\n"
     ]
    },
    {
     "name": "stderr",
     "output_type": "stream",
     "text": [
      "                                                            \r"
     ]
    },
    {
     "name": "stdout",
     "output_type": "stream",
     "text": [
      "Test Loss: 0.4208, Acc: 79.7638%, F1: 0.7896\n",
      "\n"
     ]
    },
    {
     "name": "stderr",
     "output_type": "stream",
     "text": [
      "                                                                             \r"
     ]
    },
    {
     "name": "stdout",
     "output_type": "stream",
     "text": [
      "Epoch [14/70]:\n",
      "Train Loss: 0.3983, Acc: 82.2453%, F1: 0.8237\n",
      "Val Loss: 0.3818, Acc: 82.3517%, F1: 0.8264\n",
      "\n"
     ]
    },
    {
     "name": "stderr",
     "output_type": "stream",
     "text": [
      "                                                            \r"
     ]
    },
    {
     "name": "stdout",
     "output_type": "stream",
     "text": [
      "Test Loss: 0.4246, Acc: 79.6570%, F1: 0.7907\n",
      "\n"
     ]
    },
    {
     "name": "stderr",
     "output_type": "stream",
     "text": [
      "                                                                             \r"
     ]
    },
    {
     "name": "stdout",
     "output_type": "stream",
     "text": [
      "Epoch [15/70]:\n",
      "Train Loss: 0.3923, Acc: 82.5592%, F1: 0.8265\n",
      "Val Loss: 0.3726, Acc: 83.0353%, F1: 0.8385\n",
      "\n"
     ]
    },
    {
     "name": "stderr",
     "output_type": "stream",
     "text": [
      "                                                            \r"
     ]
    },
    {
     "name": "stdout",
     "output_type": "stream",
     "text": [
      "Test Loss: 0.4180, Acc: 80.5878%, F1: 0.8058\n",
      "\n",
      "Test Accuracy at epoch: 15 is 80.5877685546875 %\n",
      "\n",
      "Best Model saving at epoch: 15 with accuracy: 80.5877685546875 %\n",
      "\n"
     ]
    },
    {
     "name": "stderr",
     "output_type": "stream",
     "text": [
      "                                                                             \r"
     ]
    },
    {
     "name": "stdout",
     "output_type": "stream",
     "text": [
      "Epoch [16/70]:\n",
      "Train Loss: 0.3878, Acc: 82.9216%, F1: 0.8299\n",
      "Val Loss: 0.3914, Acc: 82.1320%, F1: 0.8246\n",
      "\n"
     ]
    },
    {
     "name": "stderr",
     "output_type": "stream",
     "text": [
      "                                                            \r"
     ]
    },
    {
     "name": "stdout",
     "output_type": "stream",
     "text": [
      "Test Loss: 0.4274, Acc: 79.9713%, F1: 0.7974\n",
      "\n"
     ]
    },
    {
     "name": "stderr",
     "output_type": "stream",
     "text": [
      "                                                                             \r"
     ]
    },
    {
     "name": "stdout",
     "output_type": "stream",
     "text": [
      "Epoch [17/70]:\n",
      "Train Loss: 0.3815, Acc: 83.1841%, F1: 0.8327\n",
      "Val Loss: 0.3654, Acc: 83.3374%, F1: 0.8359\n",
      "\n"
     ]
    },
    {
     "name": "stderr",
     "output_type": "stream",
     "text": [
      "                                                            \r"
     ]
    },
    {
     "name": "stdout",
     "output_type": "stream",
     "text": [
      "Test Loss: 0.4089, Acc: 81.3019%, F1: 0.8093\n",
      "\n",
      "Best Model saving at epoch: 17 with accuracy: 81.3018798828125 %\n",
      "\n"
     ]
    },
    {
     "name": "stderr",
     "output_type": "stream",
     "text": [
      "                                                                             \r"
     ]
    },
    {
     "name": "stdout",
     "output_type": "stream",
     "text": [
      "Epoch [18/70]:\n",
      "Train Loss: 0.3765, Acc: 83.4049%, F1: 0.8346\n",
      "Val Loss: 0.3612, Acc: 83.9325%, F1: 0.8431\n",
      "\n"
     ]
    },
    {
     "name": "stderr",
     "output_type": "stream",
     "text": [
      "                                                            \r"
     ]
    },
    {
     "name": "stdout",
     "output_type": "stream",
     "text": [
      "Test Loss: 0.4006, Acc: 81.3171%, F1: 0.8093\n",
      "\n",
      "Best Model saving at epoch: 18 with accuracy: 81.317138671875 %\n",
      "\n"
     ]
    },
    {
     "name": "stderr",
     "output_type": "stream",
     "text": [
      "                                                                             \r"
     ]
    },
    {
     "name": "stdout",
     "output_type": "stream",
     "text": [
      "Epoch [19/70]:\n",
      "Train Loss: 0.3710, Acc: 83.7406%, F1: 0.8379\n",
      "Val Loss: 0.3786, Acc: 83.1543%, F1: 0.8187\n",
      "\n"
     ]
    },
    {
     "name": "stderr",
     "output_type": "stream",
     "text": [
      "                                                            \r"
     ]
    },
    {
     "name": "stdout",
     "output_type": "stream",
     "text": [
      "Test Loss: 0.4667, Acc: 78.5553%, F1: 0.7524\n",
      "\n"
     ]
    },
    {
     "name": "stderr",
     "output_type": "stream",
     "text": [
      "                                                                             \r"
     ]
    },
    {
     "name": "stdout",
     "output_type": "stream",
     "text": [
      "Epoch [20/70]:\n",
      "Train Loss: 0.3666, Acc: 84.0149%, F1: 0.8406\n",
      "Val Loss: 0.3638, Acc: 83.7982%, F1: 0.8341\n",
      "\n"
     ]
    },
    {
     "name": "stderr",
     "output_type": "stream",
     "text": [
      "                                                            \r"
     ]
    },
    {
     "name": "stdout",
     "output_type": "stream",
     "text": [
      "Test Loss: 0.4430, Acc: 79.1931%, F1: 0.7728\n",
      "\n"
     ]
    },
    {
     "name": "stderr",
     "output_type": "stream",
     "text": [
      "                                                                             \r"
     ]
    },
    {
     "name": "stdout",
     "output_type": "stream",
     "text": [
      "Epoch [21/70]:\n",
      "Train Loss: 0.3631, Acc: 84.1812%, F1: 0.8421\n",
      "Val Loss: 0.3542, Acc: 84.3170%, F1: 0.8450\n",
      "\n"
     ]
    },
    {
     "name": "stderr",
     "output_type": "stream",
     "text": [
      "                                                            \r"
     ]
    },
    {
     "name": "stdout",
     "output_type": "stream",
     "text": [
      "Test Loss: 0.4143, Acc: 81.1096%, F1: 0.8030\n",
      "\n"
     ]
    },
    {
     "name": "stderr",
     "output_type": "stream",
     "text": [
      "                                                                             \r"
     ]
    },
    {
     "name": "stdout",
     "output_type": "stream",
     "text": [
      "Epoch [22/70]:\n",
      "Train Loss: 0.3578, Acc: 84.4273%, F1: 0.8443\n",
      "Val Loss: 0.3529, Acc: 84.0729%, F1: 0.8413\n",
      "\n"
     ]
    },
    {
     "name": "stderr",
     "output_type": "stream",
     "text": [
      "                                                            \r"
     ]
    },
    {
     "name": "stdout",
     "output_type": "stream",
     "text": [
      "Test Loss: 0.4334, Acc: 79.6265%, F1: 0.7841\n",
      "\n"
     ]
    },
    {
     "name": "stderr",
     "output_type": "stream",
     "text": [
      "                                                                             \r"
     ]
    },
    {
     "name": "stdout",
     "output_type": "stream",
     "text": [
      "Epoch [23/70]:\n",
      "Train Loss: 0.3547, Acc: 84.6466%, F1: 0.8464\n",
      "Val Loss: 0.3387, Acc: 85.0098%, F1: 0.8456\n",
      "\n"
     ]
    },
    {
     "name": "stderr",
     "output_type": "stream",
     "text": [
      "                                                            \r"
     ]
    },
    {
     "name": "stdout",
     "output_type": "stream",
     "text": [
      "Test Loss: 0.4018, Acc: 81.0181%, F1: 0.7925\n",
      "\n"
     ]
    },
    {
     "name": "stderr",
     "output_type": "stream",
     "text": [
      "                                                                             \r"
     ]
    },
    {
     "name": "stdout",
     "output_type": "stream",
     "text": [
      "Epoch [24/70]:\n",
      "Train Loss: 0.3502, Acc: 84.9815%, F1: 0.8497\n",
      "Val Loss: 0.3383, Acc: 85.1685%, F1: 0.8533\n",
      "\n"
     ]
    },
    {
     "name": "stderr",
     "output_type": "stream",
     "text": [
      "                                                            \r"
     ]
    },
    {
     "name": "stdout",
     "output_type": "stream",
     "text": [
      "Test Loss: 0.4059, Acc: 81.1951%, F1: 0.8025\n",
      "\n"
     ]
    },
    {
     "name": "stderr",
     "output_type": "stream",
     "text": [
      "                                                                             \r"
     ]
    },
    {
     "name": "stdout",
     "output_type": "stream",
     "text": [
      "Epoch [25/70]:\n",
      "Train Loss: 0.3472, Acc: 85.0018%, F1: 0.8499\n",
      "Val Loss: 0.3396, Acc: 85.0189%, F1: 0.8478\n",
      "\n"
     ]
    },
    {
     "name": "stderr",
     "output_type": "stream",
     "text": [
      "                                                            \r"
     ]
    },
    {
     "name": "stdout",
     "output_type": "stream",
     "text": [
      "Test Loss: 0.4102, Acc: 80.5054%, F1: 0.7869\n",
      "\n",
      "Test Accuracy at epoch: 25 is 80.50537109375 %\n",
      "\n"
     ]
    },
    {
     "name": "stderr",
     "output_type": "stream",
     "text": [
      "                                                                             \r"
     ]
    },
    {
     "name": "stdout",
     "output_type": "stream",
     "text": [
      "Epoch [26/70]:\n",
      "Train Loss: 0.3423, Acc: 85.3088%, F1: 0.8529\n",
      "Val Loss: 0.3283, Acc: 85.6659%, F1: 0.8529\n",
      "\n"
     ]
    },
    {
     "name": "stderr",
     "output_type": "stream",
     "text": [
      "                                                            \r"
     ]
    },
    {
     "name": "stdout",
     "output_type": "stream",
     "text": [
      "Test Loss: 0.4227, Acc: 80.3253%, F1: 0.7816\n",
      "\n"
     ]
    },
    {
     "name": "stderr",
     "output_type": "stream",
     "text": [
      "                                                                             \r"
     ]
    },
    {
     "name": "stdout",
     "output_type": "stream",
     "text": [
      "Epoch [27/70]:\n",
      "Train Loss: 0.3388, Acc: 85.4473%, F1: 0.8542\n",
      "Val Loss: 0.3236, Acc: 85.6140%, F1: 0.8574\n",
      "\n"
     ]
    },
    {
     "name": "stderr",
     "output_type": "stream",
     "text": [
      "                                                            \r"
     ]
    },
    {
     "name": "stdout",
     "output_type": "stream",
     "text": [
      "Test Loss: 0.4311, Acc: 80.6335%, F1: 0.7937\n",
      "\n"
     ]
    },
    {
     "name": "stderr",
     "output_type": "stream",
     "text": [
      "                                                                             \r"
     ]
    },
    {
     "name": "stdout",
     "output_type": "stream",
     "text": [
      "Epoch [28/70]:\n",
      "Train Loss: 0.3361, Acc: 85.6628%, F1: 0.8563\n",
      "Val Loss: 0.3315, Acc: 85.3577%, F1: 0.8491\n",
      "\n"
     ]
    },
    {
     "name": "stderr",
     "output_type": "stream",
     "text": [
      "                                                            \r"
     ]
    },
    {
     "name": "stdout",
     "output_type": "stream",
     "text": [
      "Test Loss: 0.4004, Acc: 81.1859%, F1: 0.7926\n",
      "\n"
     ]
    },
    {
     "name": "stderr",
     "output_type": "stream",
     "text": [
      "                                                                             \r"
     ]
    },
    {
     "name": "stdout",
     "output_type": "stream",
     "text": [
      "Epoch [29/70]:\n",
      "Train Loss: 0.3329, Acc: 85.8112%, F1: 0.8577\n",
      "Val Loss: 0.3247, Acc: 85.8551%, F1: 0.8570\n",
      "\n"
     ]
    },
    {
     "name": "stderr",
     "output_type": "stream",
     "text": [
      "                                                            \r"
     ]
    },
    {
     "name": "stdout",
     "output_type": "stream",
     "text": [
      "Test Loss: 0.3930, Acc: 82.0465%, F1: 0.8070\n",
      "\n",
      "Best Model saving at epoch: 29 with accuracy: 82.0465087890625 %\n",
      "\n"
     ]
    },
    {
     "name": "stderr",
     "output_type": "stream",
     "text": [
      "                                                                             \r"
     ]
    },
    {
     "name": "stdout",
     "output_type": "stream",
     "text": [
      "Epoch [30/70]:\n",
      "Train Loss: 0.3286, Acc: 85.9425%, F1: 0.8590\n",
      "Val Loss: 0.3208, Acc: 86.0870%, F1: 0.8599\n",
      "\n"
     ]
    },
    {
     "name": "stderr",
     "output_type": "stream",
     "text": [
      "                                                            \r"
     ]
    },
    {
     "name": "stdout",
     "output_type": "stream",
     "text": [
      "Test Loss: 0.3790, Acc: 82.4158%, F1: 0.8129\n",
      "\n",
      "Best Model saving at epoch: 30 with accuracy: 82.415771484375 %\n",
      "\n"
     ]
    },
    {
     "name": "stderr",
     "output_type": "stream",
     "text": [
      "                                                                             \r"
     ]
    },
    {
     "name": "stdout",
     "output_type": "stream",
     "text": [
      "Epoch [31/70]:\n",
      "Train Loss: 0.3254, Acc: 86.2080%, F1: 0.8616\n",
      "Val Loss: 0.3291, Acc: 86.0291%, F1: 0.8563\n",
      "\n"
     ]
    },
    {
     "name": "stderr",
     "output_type": "stream",
     "text": [
      "                                                            \r"
     ]
    },
    {
     "name": "stdout",
     "output_type": "stream",
     "text": [
      "Test Loss: 0.3978, Acc: 81.8054%, F1: 0.8008\n",
      "\n"
     ]
    },
    {
     "name": "stderr",
     "output_type": "stream",
     "text": [
      "                                                                             \r"
     ]
    },
    {
     "name": "stdout",
     "output_type": "stream",
     "text": [
      "Epoch [32/70]:\n",
      "Train Loss: 0.3222, Acc: 86.3422%, F1: 0.8629\n",
      "Val Loss: 0.3249, Acc: 85.8948%, F1: 0.8541\n",
      "\n"
     ]
    },
    {
     "name": "stderr",
     "output_type": "stream",
     "text": [
      "                                                            \r"
     ]
    },
    {
     "name": "stdout",
     "output_type": "stream",
     "text": [
      "Test Loss: 0.4199, Acc: 81.0455%, F1: 0.7891\n",
      "\n"
     ]
    },
    {
     "name": "stderr",
     "output_type": "stream",
     "text": [
      "                                                                             \r"
     ]
    },
    {
     "name": "stdout",
     "output_type": "stream",
     "text": [
      "Epoch [33/70]:\n",
      "Train Loss: 0.3183, Acc: 86.5135%, F1: 0.8646\n",
      "Val Loss: 0.3412, Acc: 85.6262%, F1: 0.8503\n",
      "\n"
     ]
    },
    {
     "name": "stderr",
     "output_type": "stream",
     "text": [
      "                                                            \r"
     ]
    },
    {
     "name": "stdout",
     "output_type": "stream",
     "text": [
      "Test Loss: 0.4171, Acc: 81.1584%, F1: 0.7894\n",
      "\n"
     ]
    },
    {
     "name": "stderr",
     "output_type": "stream",
     "text": [
      "                                                                             \r"
     ]
    },
    {
     "name": "stdout",
     "output_type": "stream",
     "text": [
      "Epoch [34/70]:\n",
      "Train Loss: 0.3159, Acc: 86.6333%, F1: 0.8657\n",
      "Val Loss: 0.3056, Acc: 87.1002%, F1: 0.8673\n",
      "\n"
     ]
    },
    {
     "name": "stderr",
     "output_type": "stream",
     "text": [
      "                                                            \r"
     ]
    },
    {
     "name": "stdout",
     "output_type": "stream",
     "text": [
      "Test Loss: 0.3642, Acc: 83.2336%, F1: 0.8175\n",
      "\n",
      "Best Model saving at epoch: 34 with accuracy: 83.233642578125 %\n",
      "\n"
     ]
    },
    {
     "name": "stderr",
     "output_type": "stream",
     "text": [
      "                                                                             \r"
     ]
    },
    {
     "name": "stdout",
     "output_type": "stream",
     "text": [
      "Epoch [35/70]:\n",
      "Train Loss: 0.3131, Acc: 86.8027%, F1: 0.8672\n",
      "Val Loss: 0.3447, Acc: 85.5988%, F1: 0.8455\n",
      "\n"
     ]
    },
    {
     "name": "stderr",
     "output_type": "stream",
     "text": [
      "                                                            \r"
     ]
    },
    {
     "name": "stdout",
     "output_type": "stream",
     "text": [
      "Test Loss: 0.4335, Acc: 81.1371%, F1: 0.7832\n",
      "\n"
     ]
    },
    {
     "name": "stderr",
     "output_type": "stream",
     "text": [
      "                                                                             \r"
     ]
    },
    {
     "name": "stdout",
     "output_type": "stream",
     "text": [
      "Epoch [36/70]:\n",
      "Train Loss: 0.3090, Acc: 86.9972%, F1: 0.8693\n",
      "Val Loss: 0.3049, Acc: 87.2040%, F1: 0.8687\n",
      "\n"
     ]
    },
    {
     "name": "stderr",
     "output_type": "stream",
     "text": [
      "                                                            \r"
     ]
    },
    {
     "name": "stdout",
     "output_type": "stream",
     "text": [
      "Test Loss: 0.3523, Acc: 84.1278%, F1: 0.8289\n",
      "\n",
      "Best Model saving at epoch: 36 with accuracy: 84.1278076171875 %\n",
      "\n"
     ]
    },
    {
     "name": "stderr",
     "output_type": "stream",
     "text": [
      "                                                                             \r"
     ]
    },
    {
     "name": "stdout",
     "output_type": "stream",
     "text": [
      "Epoch [37/70]:\n",
      "Train Loss: 0.3061, Acc: 87.1727%, F1: 0.8710\n",
      "Val Loss: 0.3129, Acc: 86.5417%, F1: 0.8620\n",
      "\n"
     ]
    },
    {
     "name": "stderr",
     "output_type": "stream",
     "text": [
      "                                                            \r"
     ]
    },
    {
     "name": "stdout",
     "output_type": "stream",
     "text": [
      "Test Loss: 0.3977, Acc: 82.3547%, F1: 0.8066\n",
      "\n"
     ]
    },
    {
     "name": "stderr",
     "output_type": "stream",
     "text": [
      "                                                                             \r"
     ]
    },
    {
     "name": "stdout",
     "output_type": "stream",
     "text": [
      "Epoch [38/70]:\n",
      "Train Loss: 0.3050, Acc: 87.2650%, F1: 0.8719\n",
      "Val Loss: 0.3002, Acc: 87.4634%, F1: 0.8723\n",
      "\n"
     ]
    },
    {
     "name": "stderr",
     "output_type": "stream",
     "text": [
      "                                                            \r"
     ]
    },
    {
     "name": "stdout",
     "output_type": "stream",
     "text": [
      "Test Loss: 0.3738, Acc: 83.3069%, F1: 0.8189\n",
      "\n"
     ]
    },
    {
     "name": "stderr",
     "output_type": "stream",
     "text": [
      "                                                                             \r"
     ]
    },
    {
     "name": "stdout",
     "output_type": "stream",
     "text": [
      "Epoch [39/70]:\n",
      "Train Loss: 0.3017, Acc: 87.3878%, F1: 0.8731\n",
      "Val Loss: 0.3098, Acc: 86.8835%, F1: 0.8651\n",
      "\n"
     ]
    },
    {
     "name": "stderr",
     "output_type": "stream",
     "text": [
      "                                                            \r"
     ]
    },
    {
     "name": "stdout",
     "output_type": "stream",
     "text": [
      "Test Loss: 0.3563, Acc: 83.7891%, F1: 0.8250\n",
      "\n"
     ]
    },
    {
     "name": "stderr",
     "output_type": "stream",
     "text": [
      "                                                                             \r"
     ]
    },
    {
     "name": "stdout",
     "output_type": "stream",
     "text": [
      "Epoch [40/70]:\n",
      "Train Loss: 0.3007, Acc: 87.4458%, F1: 0.8737\n",
      "Val Loss: 0.3157, Acc: 87.1429%, F1: 0.8642\n",
      "\n"
     ]
    },
    {
     "name": "stderr",
     "output_type": "stream",
     "text": [
      "                                                            \r"
     ]
    },
    {
     "name": "stdout",
     "output_type": "stream",
     "text": [
      "Test Loss: 0.3688, Acc: 83.3435%, F1: 0.8142\n",
      "\n"
     ]
    },
    {
     "name": "stderr",
     "output_type": "stream",
     "text": [
      "                                                                             \r"
     ]
    },
    {
     "name": "stdout",
     "output_type": "stream",
     "text": [
      "Epoch [41/70]:\n",
      "Train Loss: 0.2964, Acc: 87.6774%, F1: 0.8760\n",
      "Val Loss: 0.3041, Acc: 87.3352%, F1: 0.8690\n",
      "\n"
     ]
    },
    {
     "name": "stderr",
     "output_type": "stream",
     "text": [
      "                                                            \r"
     ]
    },
    {
     "name": "stdout",
     "output_type": "stream",
     "text": [
      "Test Loss: 0.3516, Acc: 84.4940%, F1: 0.8315\n",
      "\n",
      "Best Model saving at epoch: 41 with accuracy: 84.4940185546875 %\n",
      "\n"
     ]
    },
    {
     "name": "stderr",
     "output_type": "stream",
     "text": [
      "                                                                             \r"
     ]
    },
    {
     "name": "stdout",
     "output_type": "stream",
     "text": [
      "Epoch [42/70]:\n",
      "Train Loss: 0.2950, Acc: 87.7975%, F1: 0.8773\n",
      "Val Loss: 0.2891, Acc: 87.6862%, F1: 0.8772\n",
      "\n"
     ]
    },
    {
     "name": "stderr",
     "output_type": "stream",
     "text": [
      "                                                            \r"
     ]
    },
    {
     "name": "stdout",
     "output_type": "stream",
     "text": [
      "Test Loss: 0.3294, Acc: 85.2722%, F1: 0.8460\n",
      "\n",
      "Best Model saving at epoch: 42 with accuracy: 85.272216796875 %\n",
      "\n"
     ]
    },
    {
     "name": "stderr",
     "output_type": "stream",
     "text": [
      "                                                                             \r"
     ]
    },
    {
     "name": "stdout",
     "output_type": "stream",
     "text": [
      "Epoch [43/70]:\n",
      "Train Loss: 0.2933, Acc: 87.8166%, F1: 0.8772\n",
      "Val Loss: 0.3098, Acc: 87.2986%, F1: 0.8653\n",
      "\n"
     ]
    },
    {
     "name": "stderr",
     "output_type": "stream",
     "text": [
      "                                                            \r"
     ]
    },
    {
     "name": "stdout",
     "output_type": "stream",
     "text": [
      "Test Loss: 0.4000, Acc: 82.5195%, F1: 0.8018\n",
      "\n"
     ]
    },
    {
     "name": "stderr",
     "output_type": "stream",
     "text": [
      "                                                                             \r"
     ]
    },
    {
     "name": "stdout",
     "output_type": "stream",
     "text": [
      "Epoch [44/70]:\n",
      "Train Loss: 0.2908, Acc: 87.9593%, F1: 0.8786\n",
      "Val Loss: 0.3003, Acc: 87.5122%, F1: 0.8745\n",
      "\n"
     ]
    },
    {
     "name": "stderr",
     "output_type": "stream",
     "text": [
      "                                                            \r"
     ]
    },
    {
     "name": "stdout",
     "output_type": "stream",
     "text": [
      "Test Loss: 0.3635, Acc: 83.9813%, F1: 0.8294\n",
      "\n"
     ]
    },
    {
     "name": "stderr",
     "output_type": "stream",
     "text": [
      "                                                                             \r"
     ]
    },
    {
     "name": "stdout",
     "output_type": "stream",
     "text": [
      "Epoch [45/70]:\n",
      "Train Loss: 0.2884, Acc: 88.1500%, F1: 0.8806\n",
      "Val Loss: 0.3408, Acc: 85.7849%, F1: 0.8480\n",
      "\n"
     ]
    },
    {
     "name": "stderr",
     "output_type": "stream",
     "text": [
      "                                                            \r"
     ]
    },
    {
     "name": "stdout",
     "output_type": "stream",
     "text": [
      "Test Loss: 0.4172, Acc: 82.0007%, F1: 0.7969\n",
      "\n"
     ]
    },
    {
     "name": "stderr",
     "output_type": "stream",
     "text": [
      "                                                                             \r"
     ]
    },
    {
     "name": "stdout",
     "output_type": "stream",
     "text": [
      "Epoch [46/70]:\n",
      "Train Loss: 0.2868, Acc: 88.1760%, F1: 0.8808\n",
      "Val Loss: 0.3076, Acc: 87.1552%, F1: 0.8658\n",
      "\n"
     ]
    },
    {
     "name": "stderr",
     "output_type": "stream",
     "text": [
      "                                                            \r"
     ]
    },
    {
     "name": "stdout",
     "output_type": "stream",
     "text": [
      "Test Loss: 0.3673, Acc: 83.7372%, F1: 0.8215\n",
      "\n"
     ]
    },
    {
     "name": "stderr",
     "output_type": "stream",
     "text": [
      "                                                                             \r"
     ]
    },
    {
     "name": "stdout",
     "output_type": "stream",
     "text": [
      "Epoch [47/70]:\n",
      "Train Loss: 0.2841, Acc: 88.2755%, F1: 0.8818\n",
      "Val Loss: 0.3100, Acc: 87.1765%, F1: 0.8660\n",
      "\n"
     ]
    },
    {
     "name": "stderr",
     "output_type": "stream",
     "text": [
      "                                                            \r"
     ]
    },
    {
     "name": "stdout",
     "output_type": "stream",
     "text": [
      "Test Loss: 0.3667, Acc: 83.3679%, F1: 0.8156\n",
      "\n"
     ]
    },
    {
     "name": "stderr",
     "output_type": "stream",
     "text": [
      "                                                                             \r"
     ]
    },
    {
     "name": "stdout",
     "output_type": "stream",
     "text": [
      "Epoch [48/70]:\n",
      "Train Loss: 0.2832, Acc: 88.3080%, F1: 0.8821\n",
      "Val Loss: 0.3101, Acc: 87.2375%, F1: 0.8657\n",
      "\n"
     ]
    },
    {
     "name": "stderr",
     "output_type": "stream",
     "text": [
      "                                                            \r"
     ]
    },
    {
     "name": "stdout",
     "output_type": "stream",
     "text": [
      "Test Loss: 0.3631, Acc: 83.8287%, F1: 0.8211\n",
      "\n"
     ]
    },
    {
     "name": "stderr",
     "output_type": "stream",
     "text": [
      "                                                                             \r"
     ]
    },
    {
     "name": "stdout",
     "output_type": "stream",
     "text": [
      "Epoch [49/70]:\n",
      "Train Loss: 0.2822, Acc: 88.3831%, F1: 0.8829\n",
      "Val Loss: 0.3010, Acc: 87.5885%, F1: 0.8708\n",
      "\n"
     ]
    },
    {
     "name": "stderr",
     "output_type": "stream",
     "text": [
      "                                                            \r"
     ]
    },
    {
     "name": "stdout",
     "output_type": "stream",
     "text": [
      "Test Loss: 0.3556, Acc: 84.0118%, F1: 0.8250\n",
      "\n"
     ]
    },
    {
     "name": "stderr",
     "output_type": "stream",
     "text": [
      "                                                                             \r"
     ]
    },
    {
     "name": "stdout",
     "output_type": "stream",
     "text": [
      "Epoch [50/70]:\n",
      "Train Loss: 0.2795, Acc: 88.4766%, F1: 0.8839\n",
      "Val Loss: 0.3020, Acc: 87.5214%, F1: 0.8718\n",
      "\n"
     ]
    },
    {
     "name": "stderr",
     "output_type": "stream",
     "text": [
      "                                                            \r"
     ]
    },
    {
     "name": "stdout",
     "output_type": "stream",
     "text": [
      "Test Loss: 0.3497, Acc: 84.8511%, F1: 0.8372\n",
      "\n"
     ]
    },
    {
     "name": "stderr",
     "output_type": "stream",
     "text": [
      "                                                                             \r"
     ]
    },
    {
     "name": "stdout",
     "output_type": "stream",
     "text": [
      "Epoch [51/70]:\n",
      "Train Loss: 0.2769, Acc: 88.6189%, F1: 0.8853\n",
      "Val Loss: 0.3186, Acc: 87.0667%, F1: 0.8670\n",
      "\n"
     ]
    },
    {
     "name": "stderr",
     "output_type": "stream",
     "text": [
      "                                                            \r"
     ]
    },
    {
     "name": "stdout",
     "output_type": "stream",
     "text": [
      "Test Loss: 0.3618, Acc: 84.2621%, F1: 0.8303\n",
      "\n"
     ]
    },
    {
     "name": "stderr",
     "output_type": "stream",
     "text": [
      "                                                                             \r"
     ]
    },
    {
     "name": "stdout",
     "output_type": "stream",
     "text": [
      "Epoch [52/70]:\n",
      "Train Loss: 0.2751, Acc: 88.7440%, F1: 0.8865\n",
      "Val Loss: 0.2953, Acc: 87.9974%, F1: 0.8779\n",
      "\n"
     ]
    },
    {
     "name": "stderr",
     "output_type": "stream",
     "text": [
      "                                                            \r"
     ]
    },
    {
     "name": "stdout",
     "output_type": "stream",
     "text": [
      "Test Loss: 0.3172, Acc: 86.3647%, F1: 0.8568\n",
      "\n",
      "Best Model saving at epoch: 52 with accuracy: 86.36474609375 %\n",
      "\n"
     ]
    },
    {
     "name": "stderr",
     "output_type": "stream",
     "text": [
      "                                                                             \r"
     ]
    },
    {
     "name": "stdout",
     "output_type": "stream",
     "text": [
      "Epoch [53/70]:\n",
      "Train Loss: 0.2738, Acc: 88.7856%, F1: 0.8868\n",
      "Val Loss: 0.3023, Acc: 87.7228%, F1: 0.8746\n",
      "\n"
     ]
    },
    {
     "name": "stderr",
     "output_type": "stream",
     "text": [
      "                                                            \r"
     ]
    },
    {
     "name": "stdout",
     "output_type": "stream",
     "text": [
      "Test Loss: 0.3282, Acc: 85.5530%, F1: 0.8467\n",
      "\n"
     ]
    },
    {
     "name": "stderr",
     "output_type": "stream",
     "text": [
      "                                                                             \r"
     ]
    },
    {
     "name": "stdout",
     "output_type": "stream",
     "text": [
      "Epoch [54/70]:\n",
      "Train Loss: 0.2721, Acc: 88.9015%, F1: 0.8880\n",
      "Val Loss: 0.3004, Acc: 87.9364%, F1: 0.8736\n",
      "\n"
     ]
    },
    {
     "name": "stderr",
     "output_type": "stream",
     "text": [
      "                                                            \r"
     ]
    },
    {
     "name": "stdout",
     "output_type": "stream",
     "text": [
      "Test Loss: 0.3528, Acc: 84.2682%, F1: 0.8263\n",
      "\n"
     ]
    },
    {
     "name": "stderr",
     "output_type": "stream",
     "text": [
      "                                                                             \r"
     ]
    },
    {
     "name": "stdout",
     "output_type": "stream",
     "text": [
      "Epoch [55/70]:\n",
      "Train Loss: 0.2716, Acc: 88.9057%, F1: 0.8881\n",
      "Val Loss: 0.2954, Acc: 87.7930%, F1: 0.8742\n",
      "\n"
     ]
    },
    {
     "name": "stderr",
     "output_type": "stream",
     "text": [
      "                                                            \r"
     ]
    },
    {
     "name": "stdout",
     "output_type": "stream",
     "text": [
      "Test Loss: 0.3386, Acc: 85.1166%, F1: 0.8395\n",
      "\n"
     ]
    },
    {
     "name": "stderr",
     "output_type": "stream",
     "text": [
      "                                                                             \r"
     ]
    },
    {
     "name": "stdout",
     "output_type": "stream",
     "text": [
      "Epoch [56/70]:\n",
      "Train Loss: 0.2699, Acc: 89.0377%, F1: 0.8894\n",
      "Val Loss: 0.3163, Acc: 87.4329%, F1: 0.8697\n",
      "\n"
     ]
    },
    {
     "name": "stderr",
     "output_type": "stream",
     "text": [
      "                                                            \r"
     ]
    },
    {
     "name": "stdout",
     "output_type": "stream",
     "text": [
      "Test Loss: 0.3689, Acc: 83.9386%, F1: 0.8244\n",
      "\n"
     ]
    },
    {
     "name": "stderr",
     "output_type": "stream",
     "text": [
      "                                                                             \r"
     ]
    },
    {
     "name": "stdout",
     "output_type": "stream",
     "text": [
      "Epoch [57/70]:\n",
      "Train Loss: 0.2677, Acc: 89.0610%, F1: 0.8896\n",
      "Val Loss: 0.2994, Acc: 87.7502%, F1: 0.8737\n",
      "\n"
     ]
    },
    {
     "name": "stderr",
     "output_type": "stream",
     "text": [
      "                                                            \r"
     ]
    },
    {
     "name": "stdout",
     "output_type": "stream",
     "text": [
      "Test Loss: 0.3300, Acc: 85.7544%, F1: 0.8477\n",
      "\n"
     ]
    },
    {
     "name": "stderr",
     "output_type": "stream",
     "text": [
      "                                                                             \r"
     ]
    },
    {
     "name": "stdout",
     "output_type": "stream",
     "text": [
      "Epoch [58/70]:\n",
      "Train Loss: 0.2667, Acc: 89.1483%, F1: 0.8905\n",
      "Val Loss: 0.2990, Acc: 87.6190%, F1: 0.8757\n",
      "\n"
     ]
    },
    {
     "name": "stderr",
     "output_type": "stream",
     "text": [
      "                                                            \r"
     ]
    },
    {
     "name": "stdout",
     "output_type": "stream",
     "text": [
      "Test Loss: 0.3240, Acc: 85.9558%, F1: 0.8541\n",
      "\n"
     ]
    },
    {
     "name": "stderr",
     "output_type": "stream",
     "text": [
      "                                                                             \r"
     ]
    },
    {
     "name": "stdout",
     "output_type": "stream",
     "text": [
      "Epoch [59/70]:\n",
      "Train Loss: 0.2657, Acc: 89.1293%, F1: 0.8902\n",
      "Val Loss: 0.2973, Acc: 87.4725%, F1: 0.8691\n",
      "\n"
     ]
    },
    {
     "name": "stderr",
     "output_type": "stream",
     "text": [
      "                                                            \r"
     ]
    },
    {
     "name": "stdout",
     "output_type": "stream",
     "text": [
      "Test Loss: 0.3686, Acc: 84.2773%, F1: 0.8278\n",
      "\n"
     ]
    },
    {
     "name": "stderr",
     "output_type": "stream",
     "text": [
      "                                                                             \r"
     ]
    },
    {
     "name": "stdout",
     "output_type": "stream",
     "text": [
      "Epoch [60/70]:\n",
      "Train Loss: 0.2631, Acc: 89.2815%, F1: 0.8919\n",
      "Val Loss: 0.3063, Acc: 87.4908%, F1: 0.8708\n",
      "\n"
     ]
    },
    {
     "name": "stderr",
     "output_type": "stream",
     "text": [
      "                                                            \r"
     ]
    },
    {
     "name": "stdout",
     "output_type": "stream",
     "text": [
      "Test Loss: 0.3676, Acc: 84.3018%, F1: 0.8292\n",
      "\n"
     ]
    },
    {
     "name": "stderr",
     "output_type": "stream",
     "text": [
      "                                                                             \r"
     ]
    },
    {
     "name": "stdout",
     "output_type": "stream",
     "text": [
      "Epoch [61/70]:\n",
      "Train Loss: 0.2632, Acc: 89.2807%, F1: 0.8918\n",
      "Val Loss: 0.3178, Acc: 87.4786%, F1: 0.8674\n",
      "\n"
     ]
    },
    {
     "name": "stderr",
     "output_type": "stream",
     "text": [
      "                                                            \r"
     ]
    },
    {
     "name": "stdout",
     "output_type": "stream",
     "text": [
      "Test Loss: 0.3883, Acc: 83.6761%, F1: 0.8178\n",
      "\n"
     ]
    },
    {
     "name": "stderr",
     "output_type": "stream",
     "text": [
      "                                                                             \r"
     ]
    },
    {
     "name": "stdout",
     "output_type": "stream",
     "text": [
      "Epoch [62/70]:\n",
      "Train Loss: 0.2622, Acc: 89.3929%, F1: 0.8929\n",
      "Val Loss: 0.2994, Acc: 87.5031%, F1: 0.8685\n",
      "\n"
     ]
    },
    {
     "name": "stderr",
     "output_type": "stream",
     "text": [
      "                                                            \r"
     ]
    },
    {
     "name": "stdout",
     "output_type": "stream",
     "text": [
      "Test Loss: 0.3578, Acc: 84.2834%, F1: 0.8265\n",
      "\n"
     ]
    },
    {
     "name": "stderr",
     "output_type": "stream",
     "text": [
      "                                                                             \r"
     ]
    },
    {
     "name": "stdout",
     "output_type": "stream",
     "text": [
      "Epoch [63/70]:\n",
      "Train Loss: 0.2613, Acc: 89.3772%, F1: 0.8927\n",
      "Val Loss: 0.2819, Acc: 88.4460%, F1: 0.8822\n",
      "\n"
     ]
    },
    {
     "name": "stderr",
     "output_type": "stream",
     "text": [
      "                                                            \r"
     ]
    },
    {
     "name": "stdout",
     "output_type": "stream",
     "text": [
      "Test Loss: 0.3413, Acc: 85.3638%, F1: 0.8436\n",
      "\n"
     ]
    },
    {
     "name": "stderr",
     "output_type": "stream",
     "text": [
      "                                                                             \r"
     ]
    },
    {
     "name": "stdout",
     "output_type": "stream",
     "text": [
      "Epoch [64/70]:\n",
      "Train Loss: 0.2587, Acc: 89.5309%, F1: 0.8943\n",
      "Val Loss: 0.2783, Acc: 88.6993%, F1: 0.8818\n",
      "\n"
     ]
    },
    {
     "name": "stderr",
     "output_type": "stream",
     "text": [
      "                                                            \r"
     ]
    },
    {
     "name": "stdout",
     "output_type": "stream",
     "text": [
      "Test Loss: 0.3511, Acc: 84.8969%, F1: 0.8341\n",
      "\n"
     ]
    },
    {
     "name": "stderr",
     "output_type": "stream",
     "text": [
      "                                                                             \r"
     ]
    },
    {
     "name": "stdout",
     "output_type": "stream",
     "text": [
      "Epoch [65/70]:\n",
      "Train Loss: 0.2583, Acc: 89.5622%, F1: 0.8946\n",
      "Val Loss: 0.2745, Acc: 88.6658%, F1: 0.8854\n",
      "\n"
     ]
    },
    {
     "name": "stderr",
     "output_type": "stream",
     "text": [
      "                                                            \r"
     ]
    },
    {
     "name": "stdout",
     "output_type": "stream",
     "text": [
      "Test Loss: 0.3233, Acc: 86.1511%, F1: 0.8544\n",
      "\n"
     ]
    },
    {
     "name": "stderr",
     "output_type": "stream",
     "text": [
      "                                                                             \r"
     ]
    },
    {
     "name": "stdout",
     "output_type": "stream",
     "text": [
      "Epoch [66/70]:\n",
      "Train Loss: 0.2572, Acc: 89.6183%, F1: 0.8952\n",
      "Val Loss: 0.2994, Acc: 87.6556%, F1: 0.8720\n",
      "\n"
     ]
    },
    {
     "name": "stderr",
     "output_type": "stream",
     "text": [
      "                                                            \r"
     ]
    },
    {
     "name": "stdout",
     "output_type": "stream",
     "text": [
      "Test Loss: 0.3186, Acc: 85.6537%, F1: 0.8459\n",
      "\n"
     ]
    },
    {
     "name": "stderr",
     "output_type": "stream",
     "text": [
      "                                                                             \r"
     ]
    },
    {
     "name": "stdout",
     "output_type": "stream",
     "text": [
      "Epoch [67/70]:\n",
      "Train Loss: 0.2563, Acc: 89.6461%, F1: 0.8954\n",
      "Val Loss: 0.3080, Acc: 87.6648%, F1: 0.8681\n",
      "\n"
     ]
    },
    {
     "name": "stderr",
     "output_type": "stream",
     "text": [
      "                                                            \r"
     ]
    },
    {
     "name": "stdout",
     "output_type": "stream",
     "text": [
      "Test Loss: 0.3703, Acc: 84.2377%, F1: 0.8232\n",
      "\n"
     ]
    },
    {
     "name": "stderr",
     "output_type": "stream",
     "text": [
      "                                                                             \r"
     ]
    },
    {
     "name": "stdout",
     "output_type": "stream",
     "text": [
      "Epoch [68/70]:\n",
      "Train Loss: 0.2554, Acc: 89.6858%, F1: 0.8959\n",
      "Val Loss: 0.3101, Acc: 87.6587%, F1: 0.8703\n",
      "\n"
     ]
    },
    {
     "name": "stderr",
     "output_type": "stream",
     "text": [
      "                                                            \r"
     ]
    },
    {
     "name": "stdout",
     "output_type": "stream",
     "text": [
      "Test Loss: 0.3453, Acc: 85.1501%, F1: 0.8374\n",
      "\n"
     ]
    },
    {
     "name": "stderr",
     "output_type": "stream",
     "text": [
      "                                                                             \r"
     ]
    },
    {
     "name": "stdout",
     "output_type": "stream",
     "text": [
      "Epoch [69/70]:\n",
      "Train Loss: 0.2543, Acc: 89.8022%, F1: 0.8970\n",
      "Val Loss: 0.2877, Acc: 88.6475%, F1: 0.8828\n",
      "\n"
     ]
    },
    {
     "name": "stderr",
     "output_type": "stream",
     "text": [
      "                                                            \r"
     ]
    },
    {
     "name": "stdout",
     "output_type": "stream",
     "text": [
      "Test Loss: 0.3085, Acc: 86.3556%, F1: 0.8539\n",
      "\n"
     ]
    },
    {
     "name": "stderr",
     "output_type": "stream",
     "text": [
      "                                                                             \r"
     ]
    },
    {
     "name": "stdout",
     "output_type": "stream",
     "text": [
      "Epoch [70/70]:\n",
      "Train Loss: 0.2527, Acc: 89.8258%, F1: 0.8972\n",
      "Val Loss: 0.2914, Acc: 88.1989%, F1: 0.8761\n",
      "\n"
     ]
    },
    {
     "name": "stderr",
     "output_type": "stream",
     "text": [
      "                                                            \r"
     ]
    },
    {
     "name": "stdout",
     "output_type": "stream",
     "text": [
      "Test Loss: 0.3215, Acc: 85.8093%, F1: 0.8451\n",
      "\n",
      "Best test accuracy: 86.36474609375 %\n",
      "\n",
      "Total Training Time: 500.89 min, Validation Time: 13.93 min\n"
     ]
    },
    {
     "data": {
      "image/png": "[encoded data removed]",
      "text/plain": [
       "<Figure size 800x500 with 1 Axes>"
      ]
     },
     "metadata": {},
     "output_type": "display_data"
    },
    {
     "data": {
      "image/png": "[encoded data removed]",
      "text/plain": [
       "<Figure size 800x500 with 1 Axes>"
      ]
     },
     "metadata": {},
     "output_type": "display_data"
    },
    {
     "data": {
      "image/png": "[encoded data removed]",
      "text/plain": [
       "<Figure size 800x500 with 1 Axes>"
      ]
     },
     "metadata": {},
     "output_type": "display_data"
    },
    {
     "data": {
      "image/png": "[encoded data removed]",
      "text/plain": [
       "<Figure size 800x500 with 1 Axes>"
      ]
     },
     "metadata": {},
     "output_type": "display_data"
    },
    {
     "data": {
      "image/png": "[encoded data removed]",
      "text/plain": [
       "<Figure size 800x500 with 1 Axes>"
      ]
     },
     "metadata": {},
     "output_type": "display_data"
    },
    {
     "data": {
      "image/png": "[encoded data removed]",
      "text/plain": [
       "<Figure size 800x500 with 1 Axes>"
      ]
     },
     "metadata": {},
     "output_type": "display_data"
    },
    {
     "data": {
      "image/png": "[encoded data removed]",
      "text/plain": [
       "<Figure size 800x500 with 1 Axes>"
      ]
     },
     "metadata": {},
     "output_type": "display_data"
    }
   ],
   "source": [
    "train_metrics = train_model(\n",
    "    model, train_loader, val_loader, criterion, optimizer, scheduler, epochs\n",
    ")\n",
    "\n",
    "with open(\"metrics.json\", \"w\") as f:\n",
    "    json.dump(round_metrics(train_metrics), f, indent=4)\n",
    "\n",
    "epochs_range = range(1, epochs + 1)\n",
    "\n",
    "metric_names = [\n",
    "    \"accuracies\",\n",
    "    \"losses\",\n",
    "    \"precisions\",\n",
    "    \"recalls\",\n",
    "    \"f1s\",\n",
    "    \"rocs\",\n",
    "    \"prs\",\n",
    "]\n",
    "metric_labels = [\n",
    "    \"Accuracy (%)\",\n",
    "    \"Loss\",\n",
    "    \"Precision\",\n",
    "    \"Recall\",\n",
    "    \"F1 Score\",\n",
    "    \"ROC AUC\",\n",
    "    \"PR AUC\",\n",
    "]\n",
    "\n",
    "for metric, label in zip(metric_names, metric_labels):\n",
    "    plt.figure(figsize=(8, 5))\n",
    "    plot_metrics(epochs_range, *train_metrics[metric], label, f\"{label} vs Epochs\")\n",
    "    plt.savefig(f\"{metric}.png\", bbox_inches=\"tight\")\n",
    "    plt.show()\n",
    "    plt.close()"
   ]
  }
 ],
 "metadata": {
  "kaggle": {
   "accelerator": "gpu",
   "dataSources": [
    {
     "datasetId": 6827963,
     "sourceId": 10972982,
     "sourceType": "datasetVersion"
    },
    {
     "datasetId": 6999125,
     "sourceId": 11209006,
     "sourceType": "datasetVersion"
    }
   ],
   "dockerImageVersionId": 30919,
   "isGpuEnabled": true,
   "isInternetEnabled": true,
   "language": "python",
   "sourceType": "notebook"
  },
  "kernelspec": {
   "display_name": "Python 3",
   "language": "python",
   "name": "python3"
  },
  "language_info": {
   "codemirror_mode": {
    "name": "ipython",
    "version": 3
   },
   "file_extension": ".py",
   "mimetype": "text/x-python",
   "name": "python",
   "nbconvert_exporter": "python",
   "pygments_lexer": "ipython3",
   "version": "3.10.12"
  },
  "papermill": {
   "default_parameters": {},
   "duration": 31873.792636,
   "end_time": "2025-03-30T13:11:47.343812",
   "environment_variables": {},
   "exception": null,
   "input_path": "__notebook__.ipynb",
   "output_path": "__notebook__.ipynb",
   "parameters": {},
   "start_time": "2025-03-30T04:20:33.551176",
   "version": "2.6.0"
  }
 },
 "nbformat": 4,
 "nbformat_minor": 5
}
